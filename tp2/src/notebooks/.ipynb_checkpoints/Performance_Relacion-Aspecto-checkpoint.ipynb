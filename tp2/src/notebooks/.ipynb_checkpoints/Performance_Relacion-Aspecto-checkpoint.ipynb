{
 "cells": [
  {
   "cell_type": "markdown",
   "metadata": {},
   "source": [
    "## Generando los casos de prueba "
   ]
  },
  {
   "cell_type": "code",
   "execution_count": 75,
   "metadata": {},
   "outputs": [
    {
     "name": "stdout",
     "output_type": "stream",
     "text": [
      "Generando imagen con resolución:4x90000\n",
      "Generando imagen con resolución:8x45000\n",
      "Generando imagen con resolución:16x22500\n",
      "Generando imagen con resolución:32x11250\n",
      "Generando imagen con resolución:64x5625\n",
      "Generando imagen con resolución:128x2812\n",
      "Generando imagen con resolución:256x1406\n",
      "Generando imagen con resolución:512x703\n",
      "Generando imagen con resolución:1024x351\n",
      "Generando imagen con resolución:2048x175\n",
      "Generando imagen con resolución:4096x87\n",
      "Generando imagen con resolución:8192x43\n",
      "Generando imagen con resolución:16384x21\n",
      "Generando imagen con resolución:32768x10\n",
      "Generando imagen con resolución:65536x5\n"
     ]
    }
   ],
   "source": [
    "x = 0\n",
    "pixels = 360000\n",
    "width = 4\n",
    "height = pixels//width\n",
    "\n",
    "while(height > 4):\n",
    "    res = f'{width}x{height}'\n",
    "    print(\"Generando imagen con resolución:\"+res)\n",
    "    !convert resize/2001ASpaceOdyssey.bmp -resize {res}! resize/converted/{res}.bmp\n",
    "    width *= 2\n",
    "    height = pixels//width"
   ]
  },
  {
   "cell_type": "markdown",
   "metadata": {},
   "source": [
    "## Obteniendo la performance de cada uno"
   ]
  },
  {
   "cell_type": "code",
   "execution_count": 89,
   "metadata": {},
   "outputs": [
    {
     "name": "stdout",
     "output_type": "stream",
     "text": [
      "['4x90000.bmp', '8x45000.bmp', '16x22500.bmp', '32x11250.bmp', '64x5625.bmp', '128x2812.bmp', '256x1406.bmp', '512x703.bmp', '1024x351.bmp', '2048x175.bmp', '4096x87.bmp', '8192x43.bmp', '16384x21.bmp', '32768x10.bmp', '65536x5.bmp']\n",
      "Procesando...\n",
      "  Filtro             : PixeladoDiferencial\n",
      "  Implementación     : ASM\n",
      "  Archivo de entrada : resize/converted/4x90000.bmp\n",
      "Tiempo de ejecución:\n",
      "  Comienzo                          : 38939432737782\n",
      "  Fin                               : 38939653525022\n",
      "  # iteraciones                     : 100\n",
      "  # de ciclos insumidos totales     : 220787240\n",
      "  # de ciclos insumidos por llamada : 2207872.250\n",
      "Procesando...\n",
      "  Filtro             : PixeladoDiferencial\n",
      "  Implementación     : ASM\n",
      "  Archivo de entrada : resize/converted/8x45000.bmp\n",
      "Tiempo de ejecución:\n",
      "  Comienzo                          : 38940159293489\n",
      "  Fin                               : 38940360278487\n",
      "  # iteraciones                     : 100\n",
      "  # de ciclos insumidos totales     : 200984998\n",
      "  # de ciclos insumidos por llamada : 2009849.875\n",
      "Procesando...\n",
      "  Filtro             : PixeladoDiferencial\n",
      "  Implementación     : ASM\n",
      "  Archivo de entrada : resize/converted/16x22500.bmp\n",
      "Tiempo de ejecución:\n",
      "  Comienzo                          : 38940864005947\n",
      "  Fin                               : 38941065040879\n",
      "  # iteraciones                     : 100\n",
      "  # de ciclos insumidos totales     : 201034932\n",
      "  # de ciclos insumidos por llamada : 2010349.250\n",
      "Procesando...\n",
      "  Filtro             : PixeladoDiferencial\n",
      "  Implementación     : ASM\n",
      "  Archivo de entrada : resize/converted/32x11250.bmp\n",
      "Tiempo de ejecución:\n",
      "  Comienzo                          : 38941572235120\n",
      "  Fin                               : 38941783402215\n",
      "  # iteraciones                     : 100\n",
      "  # de ciclos insumidos totales     : 211167095\n",
      "  # de ciclos insumidos por llamada : 2111671.000\n",
      "Procesando...\n",
      "  Filtro             : PixeladoDiferencial\n",
      "  Implementación     : ASM\n",
      "  Archivo de entrada : resize/converted/64x5625.bmp\n",
      "Tiempo de ejecución:\n",
      "  Comienzo                          : 38942250809673\n",
      "  Fin                               : 38942470261850\n",
      "  # iteraciones                     : 100\n",
      "  # de ciclos insumidos totales     : 219452177\n",
      "  # de ciclos insumidos por llamada : 2194521.750\n",
      "Procesando...\n",
      "  Filtro             : PixeladoDiferencial\n",
      "  Implementación     : ASM\n",
      "  Archivo de entrada : resize/converted/128x2812.bmp\n",
      "Tiempo de ejecución:\n",
      "  Comienzo                          : 38942959135155\n",
      "  Fin                               : 38943178627489\n",
      "  # iteraciones                     : 100\n",
      "  # de ciclos insumidos totales     : 219492334\n",
      "  # de ciclos insumidos por llamada : 2194923.250\n",
      "Procesando...\n",
      "  Filtro             : PixeladoDiferencial\n",
      "  Implementación     : ASM\n",
      "  Archivo de entrada : resize/converted/256x1406.bmp\n",
      "Tiempo de ejecución:\n",
      "  Comienzo                          : 38943641395042\n",
      "  Fin                               : 38943870054528\n",
      "  # iteraciones                     : 100\n",
      "  # de ciclos insumidos totales     : 228659486\n",
      "  # de ciclos insumidos por llamada : 2286595.000\n",
      "Procesando...\n",
      "  Filtro             : PixeladoDiferencial\n",
      "  Implementación     : ASM\n",
      "  Archivo de entrada : resize/converted/512x703.bmp\n",
      "Tiempo de ejecución:\n",
      "  Comienzo                          : 38944366207804\n",
      "  Fin                               : 38944598841199\n",
      "  # iteraciones                     : 100\n",
      "  # de ciclos insumidos totales     : 232633395\n",
      "  # de ciclos insumidos por llamada : 2326334.000\n",
      "Procesando...\n",
      "  Filtro             : PixeladoDiferencial\n",
      "  Implementación     : ASM\n",
      "  Archivo de entrada : resize/converted/1024x351.bmp\n",
      "Tiempo de ejecución:\n",
      "  Comienzo                          : 38945087054735\n",
      "  Fin                               : 38945288954564\n",
      "  # iteraciones                     : 100\n",
      "  # de ciclos insumidos totales     : 201899829\n",
      "  # de ciclos insumidos por llamada : 2018998.250\n",
      "Procesando...\n",
      "  Filtro             : PixeladoDiferencial\n",
      "  Implementación     : ASM\n",
      "  Archivo de entrada : resize/converted/2048x175.bmp\n",
      "Tiempo de ejecución:\n",
      "  Comienzo                          : 38945747660256\n",
      "  Fin                               : 38945943448522\n",
      "  # iteraciones                     : 100\n",
      "  # de ciclos insumidos totales     : 195788266\n",
      "  # de ciclos insumidos por llamada : 1957882.750\n",
      "Procesando...\n",
      "  Filtro             : PixeladoDiferencial\n",
      "  Implementación     : ASM\n",
      "  Archivo de entrada : resize/converted/4096x87.bmp\n",
      "Tiempo de ejecución:\n",
      "  Comienzo                          : 38946451211459\n",
      "  Fin                               : 38946644525282\n",
      "  # iteraciones                     : 100\n",
      "  # de ciclos insumidos totales     : 193313823\n",
      "  # de ciclos insumidos por llamada : 1933138.250\n",
      "Procesando...\n",
      "  Filtro             : PixeladoDiferencial\n",
      "  Implementación     : ASM\n",
      "  Archivo de entrada : resize/converted/8192x43.bmp\n",
      "Tiempo de ejecución:\n",
      "  Comienzo                          : 38947127338143\n",
      "  Fin                               : 38947308265725\n",
      "  # iteraciones                     : 100\n",
      "  # de ciclos insumidos totales     : 180927582\n",
      "  # de ciclos insumidos por llamada : 1809275.875\n",
      "Procesando...\n",
      "  Filtro             : PixeladoDiferencial\n",
      "  Implementación     : ASM\n",
      "  Archivo de entrada : resize/converted/16384x21.bmp\n",
      "Tiempo de ejecución:\n",
      "  Comienzo                          : 38947807473125\n",
      "  Fin                               : 38947990781294\n",
      "  # iteraciones                     : 100\n",
      "  # de ciclos insumidos totales     : 183308169\n",
      "  # de ciclos insumidos por llamada : 1833081.750\n",
      "Procesando...\n",
      "  Filtro             : PixeladoDiferencial\n",
      "  Implementación     : ASM\n",
      "  Archivo de entrada : resize/converted/32768x10.bmp\n",
      "Tiempo de ejecución:\n",
      "  Comienzo                          : 38948468191205\n",
      "  Fin                               : 38948619087171\n",
      "  # iteraciones                     : 100\n",
      "  # de ciclos insumidos totales     : 150895966\n",
      "  # de ciclos insumidos por llamada : 1508959.625\n",
      "Procesando...\n",
      "  Filtro             : PixeladoDiferencial\n",
      "  Implementación     : ASM\n",
      "  Archivo de entrada : resize/converted/65536x5.bmp\n",
      "Tiempo de ejecución:\n",
      "  Comienzo                          : 38949111383322\n",
      "  Fin                               : 38949262491338\n",
      "  # iteraciones                     : 100\n",
      "  # de ciclos insumidos totales     : 151108016\n",
      "  # de ciclos insumidos por llamada : 1511080.125\n"
     ]
    }
   ],
   "source": [
    "from os import listdir, remove\n",
    "from os.path import isfile, join\n",
    "mypath = 'resize/converted'\n",
    "onlyfiles = [f for f in listdir(mypath) if isfile(join(mypath, f))]\n",
    "onlyfiles.sort(key=lambda x : int(x.split('x')[0]))\n",
    "print(onlyfiles)\n",
    "nombres = []\n",
    "ciclos = []\n",
    "\n",
    "for nameFile in onlyfiles:\n",
    "    !../build/tp2 PixeladoDiferencial -i asm resize/converted/{nameFile} -o resize/converted/ColorBordes_{nameFile} -l resize/log.txt -t 100\n",
    "    f = open(\"resize/log.txt\", \"r\")\n",
    "    res = f.read().rstrip().split('\\t')\n",
    "    remove(\"resize/log.txt\")\n",
    "    \n",
    "    name = nameFile.split('.')[0]\n",
    "    w = int(name.split('x')[0])\n",
    "    h = int(name.split('x')[1])\n",
    "    nombres.append(name)\n",
    "    \n",
    "    ciclos.append(int(res[3])/(w*h))\n"
   ]
  },
  {
   "cell_type": "markdown",
   "metadata": {},
   "source": [
    "## Graficando los datos"
   ]
  },
  {
   "cell_type": "code",
   "execution_count": 91,
   "metadata": {},
   "outputs": [
    {
     "data": {
      "image/png": "[encoded data removed]",
      "text/plain": [
       "<Figure size 1080x360 with 1 Axes>"
      ]
     },
     "metadata": {
      "needs_background": "light"
     },
     "output_type": "display_data"
    },
    {
     "name": "stdout",
     "output_type": "stream",
     "text": [
      "[613.2978888888889, 558.2916611111111, 558.4303666666667, 586.5752638888889, 609.5893805555555, 609.8093383268136, 635.2781772315078, 646.318776115754, 561.7316289396367, 546.2842243303571, 542.4799720501078, 513.6252668513808, 532.7734636579241, 460.49794311523436, 461.145068359375]\n"
     ]
    }
   ],
   "source": [
    "import matplotlib.pyplot as plt\n",
    "plt.rcParams['figure.figsize'] = [15, 5]\n",
    "plt.bar(nombres, ciclos)\n",
    "\n",
    "plt.xlabel('Resolución Imagen')\n",
    "plt.ylabel('Ciclos / pixeles')\n",
    "plt.tight_layout()\n",
    "plt.show()\n",
    "\n",
    "print(ciclos)"
   ]
  },
  {
   "cell_type": "code",
   "execution_count": null,
   "metadata": {},
   "outputs": [],
   "source": []
  }
 ],
 "metadata": {
  "kernelspec": {
   "display_name": "Python 3",
   "language": "python",
   "name": "python3"
  },
  "language_info": {
   "codemirror_mode": {
    "name": "ipython",
    "version": 3
   },
   "file_extension": ".py",
   "mimetype": "text/x-python",
   "name": "python",
   "nbconvert_exporter": "python",
   "pygments_lexer": "ipython3",
   "version": "3.8.5"
  }
 },
 "nbformat": 4,
 "nbformat_minor": 4
}
